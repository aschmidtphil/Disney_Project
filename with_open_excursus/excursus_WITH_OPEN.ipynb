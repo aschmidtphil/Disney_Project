{
 "cells": [
  {
   "cell_type": "markdown",
   "id": "1f245502",
   "metadata": {},
   "source": [
    "# Excursus: WITH OPEN() "
   ]
  },
  {
   "cell_type": "markdown",
   "id": "2f5ed5b3",
   "metadata": {},
   "source": [
    "We can use the function `open()` to open a file in differen modes  \n",
    "\n",
    "\"w\" for write  \n",
    "\"r\" for read  \n",
    "\"a\" for append  \n",
    "\n",
    "check for more here:https://www.w3schools.com/python/ref_func_open.asp"
   ]
  },
  {
   "cell_type": "markdown",
   "id": "9fd3defa",
   "metadata": {},
   "source": [
    "> ### IMPORTANT! Always store the value in a variable"
   ]
  },
  {
   "cell_type": "code",
   "execution_count": 7,
   "id": "315c4963",
   "metadata": {},
   "outputs": [],
   "source": [
    "my_text = open('example_text.txt', mode=\"w\")"
   ]
  },
  {
   "cell_type": "code",
   "execution_count": 8,
   "id": "76e57617",
   "metadata": {},
   "outputs": [
    {
     "data": {
      "text/plain": [
       "<_io.TextIOWrapper name='example_text.txt' mode='w' encoding='cp1252'>"
      ]
     },
     "execution_count": 8,
     "metadata": {},
     "output_type": "execute_result"
    }
   ],
   "source": [
    "my_text"
   ]
  },
  {
   "cell_type": "markdown",
   "id": "e6ee48c5",
   "metadata": {},
   "source": [
    "- this file is currently open and will remain open until we close it\n",
    "- if the file is not there, it will be created"
   ]
  },
  {
   "cell_type": "code",
   "execution_count": 9,
   "id": "d73afdc6",
   "metadata": {},
   "outputs": [
    {
     "data": {
      "text/plain": [
       "17"
      ]
     },
     "execution_count": 9,
     "metadata": {},
     "output_type": "execute_result"
    }
   ],
   "source": [
    "# using .write() we can define the exact text the file should have.\n",
    "\n",
    "my_text.write('Hello Data Nerds!')"
   ]
  },
  {
   "cell_type": "code",
   "execution_count": 10,
   "id": "0a73baac",
   "metadata": {},
   "outputs": [
    {
     "ename": "UnsupportedOperation",
     "evalue": "not readable",
     "output_type": "error",
     "traceback": [
      "\u001b[1;31m---------------------------------------------------------------------------\u001b[0m",
      "\u001b[1;31mUnsupportedOperation\u001b[0m                      Traceback (most recent call last)",
      "Cell \u001b[1;32mIn[10], line 3\u001b[0m\n\u001b[0;32m      1\u001b[0m \u001b[38;5;66;03m# the file is still open and is not saved (= not created), therefore there is nothing to read yet\u001b[39;00m\n\u001b[1;32m----> 3\u001b[0m \u001b[43mmy_text\u001b[49m\u001b[38;5;241;43m.\u001b[39;49m\u001b[43mread\u001b[49m\u001b[43m(\u001b[49m\u001b[43m)\u001b[49m\n",
      "\u001b[1;31mUnsupportedOperation\u001b[0m: not readable"
     ]
    }
   ],
   "source": [
    "# the file is still open and is not saved (= not created), therefore there is nothing to read yet\n",
    "\n",
    "my_text.read()"
   ]
  },
  {
   "cell_type": "code",
   "execution_count": 11,
   "id": "d6126b14",
   "metadata": {},
   "outputs": [],
   "source": [
    "# using .close() the file will be saved and closed.\n",
    "\n",
    "my_text.close()"
   ]
  },
  {
   "cell_type": "code",
   "execution_count": 12,
   "id": "ce171e23",
   "metadata": {},
   "outputs": [
    {
     "data": {
      "text/plain": [
       "'Hello Data Nerds!'"
      ]
     },
     "execution_count": 12,
     "metadata": {},
     "output_type": "execute_result"
    }
   ],
   "source": [
    "# opening in reading mode and reading the file\n",
    "\n",
    "text_again = open('example_text.txt', mode=\"r\")\n",
    "text_again.read()"
   ]
  },
  {
   "cell_type": "code",
   "execution_count": 13,
   "id": "a099907f",
   "metadata": {},
   "outputs": [
    {
     "ename": "UnsupportedOperation",
     "evalue": "not writable",
     "output_type": "error",
     "traceback": [
      "\u001b[1;31m---------------------------------------------------------------------------\u001b[0m",
      "\u001b[1;31mUnsupportedOperation\u001b[0m                      Traceback (most recent call last)",
      "Cell \u001b[1;32mIn[13], line 3\u001b[0m\n\u001b[0;32m      1\u001b[0m \u001b[38;5;66;03m# we can't write in mode=\"r\"\u001b[39;00m\n\u001b[1;32m----> 3\u001b[0m \u001b[43mtext_again\u001b[49m\u001b[38;5;241;43m.\u001b[39;49m\u001b[43mwrite\u001b[49m\u001b[43m(\u001b[49m\u001b[38;5;124;43m'\u001b[39;49m\u001b[38;5;124;43merror?\u001b[39;49m\u001b[38;5;124;43m'\u001b[39;49m\u001b[43m)\u001b[49m\n",
      "\u001b[1;31mUnsupportedOperation\u001b[0m: not writable"
     ]
    }
   ],
   "source": [
    "# we can't write in mode=\"r\"\n",
    "\n",
    "text_again.write('error?')"
   ]
  },
  {
   "cell_type": "code",
   "execution_count": 14,
   "id": "938be306",
   "metadata": {},
   "outputs": [],
   "source": [
    "# don't forget to .close() the file\n",
    "\n",
    "text_again.close()"
   ]
  },
  {
   "cell_type": "code",
   "execution_count": 15,
   "id": "1e74298e",
   "metadata": {},
   "outputs": [],
   "source": [
    "text_one_more = open('example_text.txt', mode=\"w\")\n",
    "text_one_more.write('''Opening in the write mode will overwrite the previous text.''')\n",
    "text_one_more.close()"
   ]
  },
  {
   "cell_type": "code",
   "execution_count": 16,
   "id": "e1c64e58",
   "metadata": {},
   "outputs": [
    {
     "name": "stdout",
     "output_type": "stream",
     "text": [
      "Opening in the write mode will overwrite the previous text.\n"
     ]
    }
   ],
   "source": [
    "text_last_time = open('example_text.txt', mode=\"r\")\n",
    "print(text_last_time.read())\n",
    "text_last_time.close;"
   ]
  },
  {
   "cell_type": "markdown",
   "id": "3ecca390",
   "metadata": {},
   "source": [
    "### Context managers. Using the `with` statements\n",
    "\n",
    "Context managers sandwich code blocks between two distinct pieces of logic:\n",
    "\n",
    "- The enter logic - this runs right before the nested code block executes\n",
    "- The exit logic - this runs right after the nested code block is done.\n",
    "```python\n",
    "with SomeContextManager as context_variable:\n",
    "    # do stuff with context_variable\n",
    "```"
   ]
  },
  {
   "cell_type": "code",
   "execution_count": 19,
   "id": "9668a3b5",
   "metadata": {},
   "outputs": [],
   "source": [
    "# for our open() function it will look like this\n",
    "# after the indented block the file will be automatically closed\n",
    "\n",
    "with open('example_text_2.txt', mode=\"w\") as my_text_2:\n",
    "    my_text_2.write('This is another example.')"
   ]
  },
  {
   "cell_type": "code",
   "execution_count": 21,
   "id": "e8a887a8",
   "metadata": {},
   "outputs": [
    {
     "data": {
      "text/plain": [
       "'This is another example.'"
      ]
     },
     "execution_count": 21,
     "metadata": {},
     "output_type": "execute_result"
    }
   ],
   "source": [
    "# the opened file is stored in a python object.\n",
    "# only after .read() we can access the value and store it in a variable \n",
    "\n",
    "with open('example_text_2.txt', mode=\"r\") as my_text_2:\n",
    "    actual_string = my_text_2.read()\n",
    "\n",
    "actual_string"
   ]
  },
  {
   "cell_type": "code",
   "execution_count": 18,
   "id": "b818a4b5",
   "metadata": {},
   "outputs": [],
   "source": [
    "# appending a line to the previos text in file. \n",
    "# note the special character for the line break '\\n'\n",
    "\n",
    "with open('example_text_2.txt', mode=\"a\") as my_text_2:\n",
    "    my_text_2.write('\\nthis is an appended line')"
   ]
  },
  {
   "cell_type": "code",
   "execution_count": null,
   "id": "8e9ae125",
   "metadata": {},
   "outputs": [],
   "source": [
    "# reading and one-time-printing\n",
    "\n",
    "with open('example_text_2.txt', mode=\"r\") as my_text_2:\n",
    "    print(my_text_2.read())"
   ]
  },
  {
   "cell_type": "code",
   "execution_count": null,
   "id": "55d22b0d",
   "metadata": {},
   "outputs": [],
   "source": []
  }
 ],
 "metadata": {
  "kernelspec": {
   "display_name": "Python 3 (ipykernel)",
   "language": "python",
   "name": "python3"
  },
  "language_info": {
   "codemirror_mode": {
    "name": "ipython",
    "version": 3
   },
   "file_extension": ".py",
   "mimetype": "text/x-python",
   "name": "python",
   "nbconvert_exporter": "python",
   "pygments_lexer": "ipython3",
   "version": "3.9.12"
  }
 },
 "nbformat": 4,
 "nbformat_minor": 5
}
